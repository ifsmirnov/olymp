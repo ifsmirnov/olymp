{
 "metadata": {
  "name": ""
 },
 "nbformat": 3,
 "nbformat_minor": 0,
 "worksheets": [
  {
   "cells": [
    {
     "cell_type": "code",
     "collapsed": false,
     "input": [
      "def read_crossword(name):\n",
      "    f = open(name, \"r\")\n",
      "    n = int(f.readline().split()[0])\n",
      "    grid = [f.readline() for i in range(n)]\n",
      "    \n",
      "    questions = []\n",
      "    \n",
      "    for dir in range(2):\n",
      "        n = int(f.readline())\n",
      "        for line in (f.readline() for i in range(n)):\n",
      "            q = line.split(\" \", 2)\n",
      "            questions += [(dir, (int(q[0]), int(q[1])), q[2][:-1])]\n",
      "    return (grid, questions)\n"
     ],
     "language": "python",
     "metadata": {},
     "outputs": [],
     "prompt_number": 90
    },
    {
     "cell_type": "code",
     "collapsed": false,
     "input": [
      "elements_list = [i.split() for i in open(\"data/elements.txt\", \"r\").readlines()]\n",
      "def solve_element(s):\n",
      "    key = s.split()[-1]\n",
      "    col = 1 if s.find(\"symbol\") != -1 else 2\n",
      "    if col == 2:\n",
      "        key = str(eval(key))\n",
      "    for i in elements_list:\n",
      "        if i[col] == key:\n",
      "            return i[0]\n",
      "    raise \"element\""
     ],
     "language": "python",
     "metadata": {},
     "outputs": [],
     "prompt_number": 295
    },
    {
     "cell_type": "code",
     "collapsed": false,
     "input": [
      "presidents_list = []\n",
      "def read_presidents():\n",
      "    global presidents_list\n",
      "    p = [i.rsplit(\" \", 1) for i in open(\"data/presidents.txt\", \"r\").readlines()]\n",
      "    for i in p:\n",
      "        presidents_list += [(i[0], int(i[1][1:5]), int(i[1][6:10]))]\n",
      "read_presidents()\n",
      "\n",
      "pr_flag = 1\n",
      "def president_index_by_name(name):\n",
      "    res = -1\n",
      "    for idx, pres in enumerate(presidents_list):\n",
      "        if pres[0] == name:\n",
      "            res = idx\n",
      "            if pr_flag == 1:\n",
      "                return res\n",
      "    if res != -1:\n",
      "        return res\n",
      "    raise \"president_index\"\n",
      "def president_index_by_year(year):\n",
      "    res = -1\n",
      "    year = int(year)\n",
      "    for idx, pres in enumerate(presidents_list):\n",
      "        if pres[1] <= year and pres[2] >= year:\n",
      "            res = idx\n",
      "            if pr_flag == 1:\n",
      "                return res\n",
      "    if res != -1:\n",
      "        return res\n",
      "    raise \"president_index\"\n",
      "\n",
      "def solve_president(s):\n",
      "    index = -1\n",
      "    if s.find(\"held\") != -1:\n",
      "        index = president_index_by_year(s.split()[-1])\n",
      "    elif s.find(\"after\") != -1:\n",
      "        pos = s.find(\"after\") + 6\n",
      "        index = president_index_by_name(s[pos:]) + 1\n",
      "    elif s.find(\"before\") != -1:\n",
      "        pos = s.find(\"before\") + 7\n",
      "        index = president_index_by_name(s[pos:]) - 1\n",
      "    else:\n",
      "        raise \"president\"\n",
      "    name = presidents_list[index][0]\n",
      "    if s.find(\"Last\") != -1:\n",
      "        return name.split()[-1]\n",
      "    else:\n",
      "        return name.split()[0]\n",
      "        "
     ],
     "language": "python",
     "metadata": {},
     "outputs": [],
     "prompt_number": 312
    },
    {
     "cell_type": "code",
     "collapsed": false,
     "input": [
      "pokemons_list = []\n",
      "def read_pokemons():\n",
      "    global pokemons_list\n",
      "    t = open(\"data/pokemons.txt\", \"r\").readlines()\n",
      "    for i in t:\n",
      "        i = i.strip()\n",
      "        tmp = i.split(\"\\t\", 1)\n",
      "        num = int(tmp[0])\n",
      "        i = tmp[1]\n",
      "        tmp = i.rsplit(\"\\t\", 1)\n",
      "        succ = tmp[-1]\n",
      "        i = tmp[0]\n",
      "        pokemons_list += [(num, i, succ)]\n",
      "read_pokemons()\n",
      "        "
     ],
     "language": "python",
     "metadata": {},
     "outputs": [],
     "prompt_number": 198
    },
    {
     "cell_type": "code",
     "collapsed": false,
     "input": [
      "def pokemon_by_id_and_col(id, col):\n",
      "    for num, pok in enumerate(pokemons_list):\n",
      "        if pok[col] == id:\n",
      "            return num\n",
      "    raise \"pokemon\"\n",
      "    \n",
      "def pokemon_name(id, col):\n",
      "    return pokemons_list[id][col]\n",
      "    \n",
      "def solve_pokemon(s):\n",
      "    if s.find(\"number\") != -1:\n",
      "        num = s.split()[-1]\n",
      "        num = eval(num.replace(\"#\", \"\"))\n",
      "        return pokemon_name(num - 1, 1)\n",
      "    elif s.find(\"into\") != -1:\n",
      "        pos = s.find(\"into\") + 5\n",
      "        idx = pokemon_by_id_and_col(s[pos:], 1)\n",
      "        return pokemon_name(idx, 2)\n",
      "    elif s.find(\"from\") != -1:\n",
      "        pos = s.find(\"from\") + 5\n",
      "        idx = pokemon_by_id_and_col(s[pos:], 2)\n",
      "        return pokemon_name(idx, 1)\n",
      "    else:\n",
      "        raise \"pokemon\"\n",
      "    "
     ],
     "language": "python",
     "metadata": {},
     "outputs": [],
     "prompt_number": 205
    },
    {
     "cell_type": "code",
     "collapsed": false,
     "input": [
      "colors_list = [i.strip().split() for i in open(\"data/colors.txt\", \"r\").readlines()]\n",
      "def get_color(s):\n",
      "    for num, i in enumerate(colors_list):\n",
      "        if i[1] == s:\n",
      "            return i[0]\n",
      "    raise \"\"\n",
      "def solve_solor(s):\n",
      "    s = s.split()[-1]\n",
      "    if s[0] == \"#\":\n",
      "        "
     ],
     "language": "python",
     "metadata": {},
     "outputs": []
    },
    {
     "cell_type": "code",
     "collapsed": false,
     "input": [
      "colors"
     ],
     "language": "python",
     "metadata": {},
     "outputs": [
      {
       "metadata": {},
       "output_type": "pyout",
       "prompt_number": 334,
       "text": [
        "[(0, (2, 83), 'Color with RGB values [0,255,255]'),\n",
        " (0, (4, 12), 'Color with RGB values #FF0000'),\n",
        " (0, (4, 117), 'Color with RGB values #0000FF'),\n",
        " (0, (17, 14), 'Color with RGB values [0,0,255]'),\n",
        " (0, (19, 31), 'Color with RGB values [0,128,128]'),\n",
        " (0, (48, 47), 'Color with RGB values [128,128,0]'),\n",
        " (0, (49, 107), 'Color with RGB values #008080'),\n",
        " (0, (64, 41), 'Color with RGB values [192,192,192]'),\n",
        " (0, (64, 55), 'Color with RGB values [0,128,0]'),\n",
        " (0, (67, 121), 'Color with RGB values #000080'),\n",
        " (0, (68, 115), 'Color with RGB values [255,0,0]'),\n",
        " (0, (73, 95), 'Color with RGB values #00FFFF'),\n",
        " (0, (77, 35), 'Color with RGB values #FF00FF'),\n",
        " (0, (83, 96), 'Color with RGB values [255,0,255]'),\n",
        " (0, (97, 113), 'Color with RGB values [255,255,255]'),\n",
        " (0, (98, 23), 'Color with RGB values [128,0,0]'),\n",
        " (0, (110, 117), 'Color with RGB values [128,0,128]'),\n",
        " (0, (111, 88), 'Color with RGB values #800080'),\n",
        " (0, (116, 102), 'Color with RGB values #FFFFFF'),\n",
        " (1, (14, 36), 'Color with RGB values #00FF00'),\n",
        " (1, (28, 39), 'Color with RGB values [255,255,0]'),\n",
        " (1, (45, 37), 'Color with RGB values #000000'),\n",
        " (1, (63, 9), 'Color with RGB values [0,255,0]'),\n",
        " (1, (75, 36), 'Color with RGB values [128,128,128]'),\n",
        " (1, (96, 55), 'Color with RGB values #FFFF00'),\n",
        " (1, (96, 64), 'Color with RGB values #C0C0C0'),\n",
        " (1, (110, 30), 'Color with RGB values #800000'),\n",
        " (1, (111, 39), 'Color with RGB values [0,0,128]'),\n",
        " (1, (113, 41), 'Color with RGB values #008000'),\n",
        " (1, (114, 23), 'Color with RGB values #808000'),\n",
        " (1, (116, 58), 'Color with RGB values [0,0,0]'),\n",
        " (1, (119, 95), 'Color with RGB values #808080')]"
       ]
      }
     ],
     "prompt_number": 334
    },
    {
     "cell_type": "code",
     "collapsed": false,
     "input": [
      "cw = read_crossword(\"k2.in\")\n",
      "grid = cw[0]\n",
      "questions = cw[1]"
     ],
     "language": "python",
     "metadata": {},
     "outputs": [],
     "prompt_number": 296
    },
    {
     "cell_type": "code",
     "collapsed": false,
     "input": [
      "pokemons = [i for i in questions if i[2].find(\"Pokemon\") != -1]\n",
      "presidents = [i for i in questions if i[2].find(\"President\") != -1]\n",
      "elements = [i for i in questions if i[2].find(\"element\") != -1]\n",
      "colors = [i for i in questions if i[2].find(\"Color\") != -1]\n",
      "-(len(pokemons) + len(presidents) + len(elements) + len(colors)) + len(questions)"
     ],
     "language": "python",
     "metadata": {},
     "outputs": [
      {
       "metadata": {},
       "output_type": "pyout",
       "prompt_number": 304,
       "text": [
        "3"
       ]
      }
     ],
     "prompt_number": 304
    },
    {
     "cell_type": "code",
     "collapsed": false,
     "input": [
      "for i in range(len(grid)):\n",
      "    grid[i] = list(grid[i].strip())"
     ],
     "language": "python",
     "metadata": {},
     "outputs": [],
     "prompt_number": 298
    },
    {
     "cell_type": "code",
     "collapsed": false,
     "input": [
      "def print_grid():\n",
      "    for i in grid:\n",
      "        print \"\".join(i)"
     ],
     "language": "python",
     "metadata": {},
     "outputs": [],
     "prompt_number": 299
    },
    {
     "cell_type": "code",
     "collapsed": false,
     "input": [
      "answers = []\n",
      "for i in pokemons:\n",
      "    answers += [(i[0], i[1], solve_pokemon(i[2]))]\n",
      "pr_flag = 1\n",
      "for i in presidents:\n",
      "    answers += [(i[0], i[1], solve_president(i[2]))]\n",
      "pr_flag = 0\n",
      "for i in presidents:\n",
      "    answers += [(i[0], i[1], solve_president(i[2]))]\n",
      "for i in elements:\n",
      "    answers += [(i[0], i[1], solve_element(i[2]))]"
     ],
     "language": "python",
     "metadata": {},
     "outputs": [],
     "prompt_number": 330
    },
    {
     "cell_type": "code",
     "collapsed": false,
     "input": [
      "def check_ans(dir, coord, ans):\n",
      "    ans = ans.lower()\n",
      "    x = coord[0]\n",
      "    y = coord[1]\n",
      "    dx = dir\n",
      "    dy = 1 - dir\n",
      "    p = 0\n",
      "    while x < len(grid) and y < len(grid) and grid[x][y] != '.':\n",
      "#         if grid[x][y] == \"#\":\n",
      "#             grid[x][y] = ans[p]\n",
      "#         elif grid[x][y] != ans[p]:\n",
      "#             print \"ERROR!!!\"\n",
      "        x += dx\n",
      "        y += dy\n",
      "        p += 1\n",
      "    if p != len(ans):\n",
      "        return False\n",
      "    return True\n",
      "#         print coord\n",
      "#         print \"incorrect len for \" + ans, p, len(ans)\n",
      "    \n",
      "    "
     ],
     "language": "python",
     "metadata": {},
     "outputs": [],
     "prompt_number": 331
    },
    {
     "cell_type": "code",
     "collapsed": false,
     "input": [
      "cor = {}\n",
      "for i in answers:\n",
      "    if check_ans(i[0], i[1], i[2]):\n",
      "        cor[i[1]] = 1\n",
      "for i in questions:\n",
      "    if i[1] not in cor:\n",
      "        print i[1], i[2]\n",
      "print len(cor)\n",
      "print len(presidents) + len(elements) + len(pokemons)"
     ],
     "language": "python",
     "metadata": {},
     "outputs": [
      {
       "output_type": "stream",
       "stream": "stdout",
       "text": [
        "(2, 83) Color with RGB values [0,255,255]\n",
        "(4, 12) Color with RGB values #FF0000\n",
        "(4, 117) Color with RGB values #0000FF\n",
        "(8, 6) Do you like this problem?\n",
        "(17, 14) Color with RGB values [0,0,255]\n",
        "(19, 31) Color with RGB values [0,128,128]\n",
        "(47, 92) Last name of the President of the United States who held the office in 1881\n",
        "(48, 47) Color with RGB values [128,128,0]\n",
        "(49, 107) Color with RGB values #008080\n",
        "(64, 41) Color with RGB values [192,192,192]\n",
        "(64, 55) Color with RGB values [0,128,0]\n",
        "(67, 121) Color with RGB values #000080\n",
        "(68, 115) Color with RGB values [255,0,0]\n",
        "(73, 95) Color with RGB values #00FFFF\n",
        "(77, 35) Color with RGB values #FF00FF\n",
        "(83, 96) Color with RGB values [255,0,255]\n",
        "(97, 113) Color with RGB values [255,255,255]\n",
        "(98, 23) Color with RGB values [128,0,0]\n",
        "(110, 117) Color with RGB values [128,0,128]\n",
        "(111, 88) Color with RGB values #800080\n",
        "(116, 102) Color with RGB values #FFFFFF\n",
        "(14, 36) Color with RGB values #00FF00\n",
        "(28, 39) Color with RGB values [255,255,0]\n",
        "(45, 37) Color with RGB values #000000\n",
        "(63, 9) Color with RGB values [0,255,0]\n",
        "(75, 36) Color with RGB values [128,128,128]\n",
        "(96, 55) Color with RGB values #FFFF00\n",
        "(96, 64) Color with RGB values #C0C0C0\n",
        "(110, 30) Color with RGB values #800000\n",
        "(111, 39) Color with RGB values [0,0,128]\n",
        "(113, 41) Color with RGB values #008000\n",
        "(114, 23) Color with RGB values #808000\n",
        "(119, 95) Color with RGB values #808080\n",
        "1226\n",
        "1293\n"
       ]
      }
     ],
     "prompt_number": 333
    },
    {
     "cell_type": "code",
     "collapsed": false,
     "input": [
      "print_grid()"
     ],
     "language": "python",
     "metadata": {},
     "outputs": [
      {
       "output_type": "stream",
       "stream": "stdout",
       "text": [
        "........b.c...t.u.gloom.......\n",
        "......fearow..h.l..i...gold...\n",
        "..abra..r.b..porygon...r......\n",
        "....a.reagan..m.s..c.d.i......\n",
        "....i...c.l...a.s.sodium......\n",
        "....c...k.tungsten.l.t.ekans..\n",
        ".machamp....o...s..n.t.r......\n",
        ".e..u.c.kadabra......o....g...\n",
        ".w....k.....e.l.......g...e...\n",
        ".t....i.thallium..bulbasaur...\n",
        ".warren.y.r.i.m.n.....d...m...\n",
        ".o....l.l.t.u.i.e.hitmonchan..\n",
        ".....selenium.n.o.....l...n...\n",
        ".m..b.y.r.c...u.neodymium.i...\n",
        "barium...bush.m.......n.e.u...\n",
        ".c..c.a.f.n....protactinium..h\n",
        ".h..harrison.s....e...u.t....a\n",
        ".o..a.c.l...radon.charmander.u\n",
        ".p..n.a.l..b.n....h.....e.i..n\n",
        "...magnemite.dragonite..r.s..t\n",
        "....n.i.o..r.s....e.e.primeape\n",
        "......n.r..y.lickitung..u.n..r\n",
        ".a.w..e.e..l.a..a.i.t...m.h...\n",
        ".d.e.......l.s..b.u.a.g...o...\n",
        "james.growlithe.u.m.c.o...w.k.\n",
        ".m.d..e.s..u....t..coolidge.r.\n",
        ".silver.m..madison..o.d...r.a.\n",
        "...e..a.i.......p...l.u.....b.\n",
        "....sulfur...pinsir...c.....b.\n",
        "......d.m.............kennedy.\n"
       ]
      }
     ],
     "prompt_number": 254
    }
   ],
   "metadata": {}
  }
 ]
}