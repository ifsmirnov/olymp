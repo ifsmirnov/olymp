{
 "metadata": {
  "name": ""
 },
 "nbformat": 3,
 "nbformat_minor": 0,
 "worksheets": [
  {
   "cells": [
    {
     "cell_type": "code",
     "collapsed": false,
     "input": [
      "import PIL"
     ],
     "language": "python",
     "metadata": {},
     "outputs": [],
     "prompt_number": 2
    },
    {
     "cell_type": "code",
     "collapsed": false,
     "input": [
      "from PIL import Image"
     ],
     "language": "python",
     "metadata": {},
     "outputs": [],
     "prompt_number": 3
    },
    {
     "cell_type": "code",
     "collapsed": false,
     "input": [
      "img = Image.open(\"bea04.in.jpg\")"
     ],
     "language": "python",
     "metadata": {},
     "outputs": [],
     "prompt_number": 77
    },
    {
     "cell_type": "code",
     "collapsed": false,
     "input": [
      "bead_square = s/6 # 6166/6"
     ],
     "language": "python",
     "metadata": {},
     "outputs": [],
     "prompt_number": 23
    },
    {
     "cell_type": "code",
     "collapsed": false,
     "input": [],
     "language": "python",
     "metadata": {},
     "outputs": []
    },
    {
     "cell_type": "code",
     "collapsed": false,
     "input": [
      "def white_enough(col):\n",
      "    return sum([(col[i] - 255) ** 2 for i in range(3)]) < 500"
     ],
     "language": "python",
     "metadata": {},
     "outputs": [],
     "prompt_number": 72
    },
    {
     "cell_type": "code",
     "collapsed": false,
     "input": [
      "res = Image.new(\"RGB\", img.size)\n",
      "data = [[img.getpixel((x,y)) for y in range(img.size[1])] for x in range(img.size[0])]"
     ],
     "language": "python",
     "metadata": {},
     "outputs": [],
     "prompt_number": 75
    },
    {
     "cell_type": "code",
     "collapsed": false,
     "input": [
      "print len(data)"
     ],
     "language": "python",
     "metadata": {},
     "outputs": [
      {
       "output_type": "stream",
       "stream": "stdout",
       "text": [
        "600\n"
       ]
      }
     ],
     "prompt_number": 59
    },
    {
     "cell_type": "code",
     "collapsed": false,
     "input": [
      "h = [[0]*(256/16) for x in range(256/16)]\n",
      "mx = 0\n",
      "for i in data:\n",
      "    for j in i:\n",
      "        if white_enough(j):\n",
      "            continue\n",
      "        h[j[0]/16][j[1]/16] += 1\n",
      "        mx = max(mx, h[j[0]/16][j[1]/16])\n",
      "print \"mx = \", mx\n",
      "print h[0][0], h[0][1], h[1][0], h[1][1]\n",
      "        \n",
      "hres = Image.new(\"RGB\", (256/16, 256/16))\n",
      "for i in range(256/16):\n",
      "    for j in range(256/16):\n",
      "        hres.putpixel((i, j), (int(256.0 * h[i][j] / mx), 30, 30))\n",
      "        \n",
      "hres.save(\"mask.png\")\n"
     ],
     "language": "python",
     "metadata": {},
     "outputs": [
      {
       "output_type": "stream",
       "stream": "stdout",
       "text": [
        "mx =  20134\n",
        "177 64 262 3124\n"
       ]
      }
     ],
     "prompt_number": 76
    },
    {
     "cell_type": "code",
     "collapsed": false,
     "input": [
      "newdata = [[0 for y in range(img.size[1])] for x in range(img.size[0])]\n",
      "for x in range(img.size[0]):\n",
      "    for y in range(img.size[1]):\n",
      "        cols = [0, 0, 0]\n",
      "        cnt = 0\n",
      "        for dx in range(-1, 1):\n",
      "            if cnt < 0:\n",
      "                continue\n",
      "            for dy in range(-2, 3):\n",
      "                tx, ty = x+dx, y+dy\n",
      "                if not (tx >= 0 and tx < img.size[0]):\n",
      "                    continue\n",
      "                if not (ty >= 0 and ty < img.size[1]):\n",
      "                    continue\n",
      "                cnt += 1\n",
      "                if white_enough(data[tx][ty]):\n",
      "                    cnt = -100\n",
      "                    break\n",
      "                for i in range(3):\n",
      "                    cols[i] += data[tx][ty][i]\n",
      "        if cnt < 0:\n",
      "            newdata[x][y] = (255,255,255)\n",
      "        else:\n",
      "            for i in range(3):\n",
      "                cols[i] = int(1.0 * cols[i] / cnt)\n",
      "            newdata[x][y] = tuple(cols)"
     ],
     "language": "python",
     "metadata": {},
     "outputs": [],
     "prompt_number": 46
    },
    {
     "cell_type": "code",
     "collapsed": false,
     "input": [
      "for i in range(img.size[0]):\n",
      "    for j in range(img.size[1]):\n",
      "        res.putpixel((i, j), newdata[i][j])"
     ],
     "language": "python",
     "metadata": {},
     "outputs": [],
     "prompt_number": 47
    },
    {
     "cell_type": "code",
     "collapsed": false,
     "input": [
      "res.save(\"mask.png\")"
     ],
     "language": "python",
     "metadata": {},
     "outputs": [],
     "prompt_number": 48
    },
    {
     "cell_type": "code",
     "collapsed": false,
     "input": [
      "res = Image.new(\"RGB\", img.size)\n",
      "white=(255,255,255)\n",
      "red=(255,0,0)\n",
      "s = 0\n",
      "#for x in range(img.size[0]):\n",
      "for x in range(300, 600):\n",
      "    for y in range(img.size[1]):\n",
      "        col = img.getpixel((x, y))\n",
      "        if not white_enough(col):\n",
      "            s += 1\n",
      "            res.putpixel((x, y), red)\n",
      "print s/bead_square\n",
      "res.save(\"mask.png\")\n"
     ],
     "language": "python",
     "metadata": {},
     "outputs": [
      {
       "output_type": "stream",
       "stream": "stdout",
       "text": [
        "66\n"
       ]
      }
     ],
     "prompt_number": 35
    }
   ],
   "metadata": {}
  }
 ]
}